{
  "nbformat": 4,
  "nbformat_minor": 0,
  "metadata": {
    "colab": {
      "provenance": []
    },
    "kernelspec": {
      "name": "python3",
      "display_name": "Python 3"
    },
    "language_info": {
      "name": "python"
    }
  },
  "cells": [
    {
      "cell_type": "markdown",
      "source": [
        "#PyTorch Workflow\n",
        "\n",
        "Exploring PyTorch end-to-end workflow"
      ],
      "metadata": {
        "id": "2b0Js0SFnWx8"
      }
    },
    {
      "cell_type": "markdown",
      "source": [
        "\n",
        "1. Prepare data and load\n",
        "2. Build model\n",
        "3. Fitting the model to data (training)\n",
        "4. Making predictions and evaluating the model (inference)\n",
        "5. Saving and loading a model\n",
        "6. Putting it all together"
      ],
      "metadata": {
        "id": "AsHDCEBwm2Qe"
      }
    },
    {
      "cell_type": "code",
      "source": [
        "import torch\n",
        "from torch import nn\n",
        "import matplotlib.pyplot as plt\n",
        "\n",
        "torch.__version__"
      ],
      "metadata": {
        "colab": {
          "base_uri": "https://localhost:8080/",
          "height": 36
        },
        "id": "FXMA7iqTnkOK",
        "outputId": "0cb77fdd-9757-4d9b-99cc-daf8031d7846"
      },
      "execution_count": 1,
      "outputs": [
        {
          "output_type": "execute_result",
          "data": {
            "text/plain": [
              "'2.5.1+cu121'"
            ],
            "application/vnd.google.colaboratory.intrinsic+json": {
              "type": "string"
            }
          },
          "metadata": {},
          "execution_count": 1
        }
      ]
    },
    {
      "cell_type": "markdown",
      "source": [
        "##1. Data (preparing and loading)\n",
        "\n",
        "Data can be almost anything\n",
        "\n",
        "* Excel Spreadsheets\n",
        "* Images\n",
        "* Videos\n",
        "* Audio\n",
        "* DNA\n",
        "* Text\n",
        "\n",
        "Steps in machine learning:\n",
        "\n",
        "  1) Get data into numerical representation\n",
        "\n",
        "  2) Build a model to create patterns in that numerical represenation\n",
        "\n",
        "We'll using a linear regression formula to make a straight line with *known* **parameters**"
      ],
      "metadata": {
        "id": "xgyWkDT4n7Wr"
      }
    },
    {
      "cell_type": "code",
      "source": [
        "#formula of linear regression\n",
        "#Y = weight*x + bias\n",
        "\n",
        "#create\n",
        "weight = 0.7\n",
        "bias = 0.3\n",
        "\n",
        "#create\n",
        "start = 0\n",
        "end = 1\n",
        "step = 0.02\n",
        "x = torch.arange(start, end, step).unsqueeze(dim=1) #unsqueeze adds an extra dimension\n",
        "y = weight*x + bias\n",
        "\n",
        "x[:10], y[:10]"
      ],
      "metadata": {
        "colab": {
          "base_uri": "https://localhost:8080/"
        },
        "id": "EIE6ysMHoguL",
        "outputId": "0d7ec21f-0d38-4256-d17d-2951a6a0bf82"
      },
      "execution_count": 2,
      "outputs": [
        {
          "output_type": "execute_result",
          "data": {
            "text/plain": [
              "(tensor([[0.0000],\n",
              "         [0.0200],\n",
              "         [0.0400],\n",
              "         [0.0600],\n",
              "         [0.0800],\n",
              "         [0.1000],\n",
              "         [0.1200],\n",
              "         [0.1400],\n",
              "         [0.1600],\n",
              "         [0.1800]]),\n",
              " tensor([[0.3000],\n",
              "         [0.3140],\n",
              "         [0.3280],\n",
              "         [0.3420],\n",
              "         [0.3560],\n",
              "         [0.3700],\n",
              "         [0.3840],\n",
              "         [0.3980],\n",
              "         [0.4120],\n",
              "         [0.4260]]))"
            ]
          },
          "metadata": {},
          "execution_count": 2
        }
      ]
    },
    {
      "cell_type": "code",
      "source": [
        "len(x), len(y)"
      ],
      "metadata": {
        "colab": {
          "base_uri": "https://localhost:8080/"
        },
        "id": "KxkKprfOsNCZ",
        "outputId": "723e61d8-d6b3-473f-bb12-15224b3db13e"
      },
      "execution_count": 3,
      "outputs": [
        {
          "output_type": "execute_result",
          "data": {
            "text/plain": [
              "(50, 50)"
            ]
          },
          "metadata": {},
          "execution_count": 3
        }
      ]
    },
    {
      "cell_type": "markdown",
      "source": [
        "###Splitting into training and testing datasets\n",
        "\n",
        "Creating training and testing set"
      ],
      "metadata": {
        "id": "6vM4FvsQsWFF"
      }
    },
    {
      "cell_type": "code",
      "source": [
        "#Creating a test/train split\n",
        "train_split = int(0.8*len(x))\n",
        "x_train, y_train = x[:train_split], y[:train_split]\n",
        "x_test, y_test = x[train_split:], y[train_split:]\n",
        "\n",
        "len(x_train), len(y_train), len(x_test), len(y_test)"
      ],
      "metadata": {
        "colab": {
          "base_uri": "https://localhost:8080/"
        },
        "id": "zNoU-uA8x8Nr",
        "outputId": "5401a06e-8f53-47c3-9764-f574861d35e1"
      },
      "execution_count": 4,
      "outputs": [
        {
          "output_type": "execute_result",
          "data": {
            "text/plain": [
              "(40, 40, 10, 10)"
            ]
          },
          "metadata": {},
          "execution_count": 4
        }
      ]
    },
    {
      "cell_type": "markdown",
      "source": [
        "Visualizing the data"
      ],
      "metadata": {
        "id": "rrWdoJmsyFvD"
      }
    },
    {
      "cell_type": "code",
      "source": [
        "def plot_predictions(train_data = x_train,\n",
        "                     train_labels = y_train,\n",
        "                     test_data = x_test,\n",
        "                     test_labels = y_test,\n",
        "                     predictions=None):\n",
        "\n",
        "  plt.figure(figsize=(7,4))\n",
        "  #plot the training data\n",
        "  plt.scatter(train_data, train_labels, c=\"b\", label=\"Training Data\")\n",
        "\n",
        "  #plot the testing data\n",
        "  plt.scatter(test_data, test_labels, c=\"g\", label=\"Testing Data\")\n",
        "\n",
        "  #Are there predictions\n",
        "\n",
        "  if predictions is not None:\n",
        "    plt.scatter(test_data, predictions, c=\"r\", label=\"Predictions\")"
      ],
      "metadata": {
        "id": "yVkx1betzynJ"
      },
      "execution_count": 5,
      "outputs": []
    },
    {
      "cell_type": "code",
      "source": [
        "plot_predictions()"
      ],
      "metadata": {
        "colab": {
          "base_uri": "https://localhost:8080/",
          "height": 368
        },
        "id": "Y2al8lK-1X3j",
        "outputId": "9bd928bd-0c29-4560-857b-d3df63e974fd"
      },
      "execution_count": 6,
      "outputs": [
        {
          "output_type": "display_data",
          "data": {
            "text/plain": [
              "<Figure size 700x400 with 1 Axes>"
            ],
            "image/png": "[encoded data removed]"
          },
          "metadata": {}
        }
      ]
    },
    {
      "cell_type": "markdown",
      "source": [
        " ## 2. Build model\n",
        " First PyTorch model\n",
        "\n",
        " What the model does:\n",
        "\n",
        "\n",
        "*   Start with random values (weights and bias)\n",
        "*   Look at training data and adjust the random values to get closer to the ideal values (weights and bias values we used to create the data)\n",
        "\n",
        "How does it do that?\n",
        "\n",
        "*  Gradient Descent\n",
        "*  Backpropogation\n",
        "\n",
        "\n",
        "\n"
      ],
      "metadata": {
        "id": "fzpB2xkC1f-u"
      }
    },
    {
      "cell_type": "code",
      "source": [
        "import torch\n",
        "from torch import nn\n",
        "\n",
        "class LinearRegressionModel(nn.Module):\n",
        "  def __init__(self):\n",
        "    super().__init__()\n",
        "    self.weight = nn.Parameter(torch.randn(1, requires_grad=True, dtype=torch.float))\n",
        "    self.bias = nn.Parameter(torch.randn(1, requires_grad=True, dtype=torch.float))\n",
        "\n",
        "  def forward(self, x:torch.Tensor) -> torch.Tensor:\n",
        "    return self.weight*x + self.bias\n"
      ],
      "metadata": {
        "id": "zujVtciFDN-B"
      },
      "execution_count": 7,
      "outputs": []
    },
    {
      "cell_type": "markdown",
      "source": [
        "###Pytorch model building essentials\n",
        "\n",
        "* torch.nn - all the buildings for creating neura networks\n",
        "* torch.nn.Parameter - what parameters the model should try and learn for building neural network\n",
        "* torch.nn.Module - base class for all neural network modules. If you subclass it then overwrite the forward() method\n",
        "* torch.optim - where the optimizers in PyTorch are, they help in gradient descent\n",
        "* def forward() - all nn.Module subclasses require you to overwrite forward(), this method defines what happens in the forward computation."
      ],
      "metadata": {
        "id": "E94E_ycmjDfv"
      }
    },
    {
      "cell_type": "markdown",
      "source": [
        "###Checking the contents of our PyTorch model\n",
        "\n",
        "We can the check our model's parameters/what's inside the model using `.parameters()`"
      ],
      "metadata": {
        "id": "qWF5mUy-li_v"
      }
    },
    {
      "cell_type": "code",
      "source": [
        "# Create a random seed\n",
        "torch.manual_seed(42)\n",
        "\n",
        "#create an instance of the model\n",
        "\n",
        "model_0 = LinearRegressionModel()\n",
        "\n",
        "list(model_0.parameters())\n"
      ],
      "metadata": {
        "colab": {
          "base_uri": "https://localhost:8080/"
        },
        "id": "VHgKuLwrmF_R",
        "outputId": "51713382-4a31-454e-f327-abdc60a817e2"
      },
      "execution_count": 8,
      "outputs": [
        {
          "output_type": "execute_result",
          "data": {
            "text/plain": [
              "[Parameter containing:\n",
              " tensor([0.3367], requires_grad=True),\n",
              " Parameter containing:\n",
              " tensor([0.1288], requires_grad=True)]"
            ]
          },
          "metadata": {},
          "execution_count": 8
        }
      ]
    },
    {
      "cell_type": "code",
      "source": [
        "#List named parameters\n",
        "model_0.state_dict()"
      ],
      "metadata": {
        "colab": {
          "base_uri": "https://localhost:8080/"
        },
        "id": "Fw6qpoT1mUNn",
        "outputId": "7897b82f-85b9-4267-ca68-9f75e0c94a1c"
      },
      "execution_count": 9,
      "outputs": [
        {
          "output_type": "execute_result",
          "data": {
            "text/plain": [
              "OrderedDict([('weight', tensor([0.3367])), ('bias', tensor([0.1288]))])"
            ]
          },
          "metadata": {},
          "execution_count": 9
        }
      ]
    },
    {
      "cell_type": "markdown",
      "source": [
        "### Making prediction using `torch.inference_mode()`\n",
        "\n",
        "To check out mode's predictive power how well it predicts y_test based on x_test.\n"
      ],
      "metadata": {
        "id": "nQ7bRujanxZf"
      }
    },
    {
      "cell_type": "code",
      "source": [
        "x_test, y_test"
      ],
      "metadata": {
        "colab": {
          "base_uri": "https://localhost:8080/"
        },
        "id": "bsBNaJfUpzcI",
        "outputId": "dd9e0ce1-02ef-4b4e-98be-dc23b37ac85a"
      },
      "execution_count": 10,
      "outputs": [
        {
          "output_type": "execute_result",
          "data": {
            "text/plain": [
              "(tensor([[0.8000],\n",
              "         [0.8200],\n",
              "         [0.8400],\n",
              "         [0.8600],\n",
              "         [0.8800],\n",
              "         [0.9000],\n",
              "         [0.9200],\n",
              "         [0.9400],\n",
              "         [0.9600],\n",
              "         [0.9800]]),\n",
              " tensor([[0.8600],\n",
              "         [0.8740],\n",
              "         [0.8880],\n",
              "         [0.9020],\n",
              "         [0.9160],\n",
              "         [0.9300],\n",
              "         [0.9440],\n",
              "         [0.9580],\n",
              "         [0.9720],\n",
              "         [0.9860]]))"
            ]
          },
          "metadata": {},
          "execution_count": 10
        }
      ]
    },
    {
      "cell_type": "code",
      "source": [
        "#making prediction\n",
        "\n",
        "with torch.inference_mode():\n",
        "  y_preds = model_0(x_test)\n",
        "\n",
        "y_preds"
      ],
      "metadata": {
        "colab": {
          "base_uri": "https://localhost:8080/"
        },
        "id": "zsOQHo5PpZc8",
        "outputId": "c32c6383-5dbf-4599-ec62-35b5244da78d"
      },
      "execution_count": 11,
      "outputs": [
        {
          "output_type": "execute_result",
          "data": {
            "text/plain": [
              "tensor([[0.3982],\n",
              "        [0.4049],\n",
              "        [0.4116],\n",
              "        [0.4184],\n",
              "        [0.4251],\n",
              "        [0.4318],\n",
              "        [0.4386],\n",
              "        [0.4453],\n",
              "        [0.4520],\n",
              "        [0.4588]])"
            ]
          },
          "metadata": {},
          "execution_count": 11
        }
      ]
    },
    {
      "cell_type": "code",
      "source": [
        " plot_predictions(predictions = y_preds)"
      ],
      "metadata": {
        "colab": {
          "base_uri": "https://localhost:8080/",
          "height": 368
        },
        "id": "QOrjOMWRp4xR",
        "outputId": "048592db-7c9b-46e0-cb94-b5ae59b04d01"
      },
      "execution_count": 12,
      "outputs": [
        {
          "output_type": "display_data",
          "data": {
            "text/plain": [
              "<Figure size 700x400 with 1 Axes>"
            ],
            "image/png": "[encoded data removed]"
          },
          "metadata": {}
        }
      ]
    },
    {
      "cell_type": "markdown",
      "source": [
        " ## 3. Train model\n",
        "\n",
        " Movie from random values to known (required) values\n",
        "\n",
        " Measuring how poor or how wrong the mode's prediction is called the \"Loss Function\"\n",
        "\n",
        " * **Lost function** may also be called \"cost function\" or \"criterion\"\n",
        "\n",
        "* **Optimizers** takes in to account the loss of a model and adjusts the mode's parameters (weights and biases) to improve the loss function\n",
        "\n",
        "In PyTorch we create training and testing loop"
      ],
      "metadata": {
        "id": "Nx7K6dBIrUOt"
      }
    },
    {
      "cell_type": "code",
      "source": [
        "#setup a loss function\n",
        "loss_fn = nn.L1Loss()\n",
        "\n",
        "#setup an optimizer (stochastic gradient descent)\n",
        "optimizer = torch.optim.SGD(params=model_0.parameters(),lr=0.01) #lr is hyperparameter, which means the user sets it themselves\n",
        "\n"
      ],
      "metadata": {
        "id": "aJpRrUF0ygEw"
      },
      "execution_count": 13,
      "outputs": []
    },
    {
      "cell_type": "markdown",
      "source": [
        "### Building a training loop in PyTorch\n",
        "\n",
        "Steps for a training loop:\n",
        "0.   Loop through the data\n",
        "1.   Forward pass (data moving through forward function)\n",
        "2.   Calculate the loss (compare the forward pass prediction to ground truth labels\n",
        "3.   Optimizer zero grad\n",
        "4.   Loss Backward - move backward through the network to calculate the gradients of the each parameter (**backpropogation**)\n",
        "5.   Optimizer step - adjusts the model's parameters to try and improve the loss (**gradient descent**)\n",
        "\n"
      ],
      "metadata": {
        "id": "AcHrrCnA12DE"
      }
    },
    {
      "cell_type": "code",
      "source": [
        "torch.manual_seed(42)\n",
        "#An epoch is the number of times the loop happens\n",
        "epochs = 200\n",
        "\n",
        "epoch_count = []\n",
        "loss_values = []\n",
        "test_loss_values = []\n",
        "\n",
        "###TRAINING LOOP\n",
        "for epoch in range(epochs):\n",
        "  #Put the model in train mode\n",
        "  model_0.train()\n",
        "\n",
        "  #1. Forward pass(using the forward function), find the prediction value\n",
        "  y_pred = model_0(x_train)\n",
        "\n",
        "  #2. find the loss\n",
        "  loss = loss_fn(y_pred, y_train)\n",
        "  #print(f\"Loss: {loss}\")\n",
        "\n",
        "  #3. Optimizer zero the grad\n",
        "  optimizer.zero_grad()\n",
        "\n",
        "  #4. Perform backpropogation on the loss wrt to the parameters of the model (calcualte the gradient at each parameter)\n",
        "  loss.backward()\n",
        "\n",
        "  #Step the optimizer(perform gradient descent)\n",
        "  optimizer.step()\n",
        "\n",
        "  ###TESTING loop\n",
        "  model_0.eval() #turns of setting in the model that are not needed for evaluation\n",
        "  with torch.inference_mode():\n",
        "    #1. Do the forward pass\n",
        "    test_pred = model_0(x_test)\n",
        "    #2. get loss\n",
        "    test_loss = loss_fn(test_pred, y_test)\n",
        "\n",
        "    epoch_count.append(epoch)\n",
        "    loss_values.append(loss)\n",
        "    test_loss_values.append(test_loss)\n",
        "  if epoch%10==0:\n",
        "    print(f\"Epoch {epoch}: | Loss: {loss} | Test loss: {test_loss}\")\n",
        "\n",
        "    print(model_0.state_dict())"
      ],
      "metadata": {
        "colab": {
          "base_uri": "https://localhost:8080/"
        },
        "collapsed": true,
        "id": "bIbUzBOV6HCl",
        "outputId": "1593b738-7036-4449-8384-b32c8dbdae88"
      },
      "execution_count": 14,
      "outputs": [
        {
          "output_type": "stream",
          "name": "stdout",
          "text": [
            "Epoch 0: | Loss: 0.31288138031959534 | Test loss: 0.48106518387794495\n",
            "OrderedDict([('weight', tensor([0.3406])), ('bias', tensor([0.1388]))])\n",
            "Epoch 10: | Loss: 0.1976713240146637 | Test loss: 0.3463551998138428\n",
            "OrderedDict([('weight', tensor([0.3796])), ('bias', tensor([0.2388]))])\n",
            "Epoch 20: | Loss: 0.08908725529909134 | Test loss: 0.21729660034179688\n",
            "OrderedDict([('weight', tensor([0.4184])), ('bias', tensor([0.3333]))])\n",
            "Epoch 30: | Loss: 0.053148526698350906 | Test loss: 0.14464017748832703\n",
            "OrderedDict([('weight', tensor([0.4512])), ('bias', tensor([0.3768]))])\n",
            "Epoch 40: | Loss: 0.04543796554207802 | Test loss: 0.11360953003168106\n",
            "OrderedDict([('weight', tensor([0.4748])), ('bias', tensor([0.3868]))])\n",
            "Epoch 50: | Loss: 0.04167863354086876 | Test loss: 0.09919948130846024\n",
            "OrderedDict([('weight', tensor([0.4938])), ('bias', tensor([0.3843]))])\n",
            "Epoch 60: | Loss: 0.03818932920694351 | Test loss: 0.08886633068323135\n",
            "OrderedDict([('weight', tensor([0.5116])), ('bias', tensor([0.3788]))])\n",
            "Epoch 70: | Loss: 0.03476089984178543 | Test loss: 0.0805937647819519\n",
            "OrderedDict([('weight', tensor([0.5288])), ('bias', tensor([0.3718]))])\n",
            "Epoch 80: | Loss: 0.03132382780313492 | Test loss: 0.07232122868299484\n",
            "OrderedDict([('weight', tensor([0.5459])), ('bias', tensor([0.3648]))])\n",
            "Epoch 90: | Loss: 0.02788739837706089 | Test loss: 0.06473556160926819\n",
            "OrderedDict([('weight', tensor([0.5629])), ('bias', tensor([0.3573]))])\n",
            "Epoch 100: | Loss: 0.024458957836031914 | Test loss: 0.05646304413676262\n",
            "OrderedDict([('weight', tensor([0.5800])), ('bias', tensor([0.3503]))])\n",
            "Epoch 110: | Loss: 0.021020207554101944 | Test loss: 0.04819049686193466\n",
            "OrderedDict([('weight', tensor([0.5972])), ('bias', tensor([0.3433]))])\n",
            "Epoch 120: | Loss: 0.01758546568453312 | Test loss: 0.04060482233762741\n",
            "OrderedDict([('weight', tensor([0.6141])), ('bias', tensor([0.3358]))])\n",
            "Epoch 130: | Loss: 0.014155393466353416 | Test loss: 0.03233227878808975\n",
            "OrderedDict([('weight', tensor([0.6313])), ('bias', tensor([0.3288]))])\n",
            "Epoch 140: | Loss: 0.010716589167714119 | Test loss: 0.024059748277068138\n",
            "OrderedDict([('weight', tensor([0.6485])), ('bias', tensor([0.3218]))])\n",
            "Epoch 150: | Loss: 0.0072835334576666355 | Test loss: 0.016474086791276932\n",
            "OrderedDict([('weight', tensor([0.6654])), ('bias', tensor([0.3143]))])\n",
            "Epoch 160: | Loss: 0.0038517764769494534 | Test loss: 0.008201557211577892\n",
            "OrderedDict([('weight', tensor([0.6826])), ('bias', tensor([0.3073]))])\n",
            "Epoch 170: | Loss: 0.008932482451200485 | Test loss: 0.005023092031478882\n",
            "OrderedDict([('weight', tensor([0.6951])), ('bias', tensor([0.2993]))])\n",
            "Epoch 180: | Loss: 0.008932482451200485 | Test loss: 0.005023092031478882\n",
            "OrderedDict([('weight', tensor([0.6951])), ('bias', tensor([0.2993]))])\n",
            "Epoch 190: | Loss: 0.008932482451200485 | Test loss: 0.005023092031478882\n",
            "OrderedDict([('weight', tensor([0.6951])), ('bias', tensor([0.2993]))])\n"
          ]
        }
      ]
    },
    {
      "cell_type": "code",
      "source": [
        "import numpy as np\n",
        "#plot the loss curves\n",
        "plt.plot(epoch_count, np.array(torch.tensor(loss_values).cpu().numpy()), label=\"Train Loss\")\n",
        "plt.plot(epoch_count, test_loss_values, label=\"Test Loss\")\n",
        "plt.title(\"Loss Curve\")\n",
        "plt.show()"
      ],
      "metadata": {
        "colab": {
          "base_uri": "https://localhost:8080/",
          "height": 452
        },
        "id": "Ys7fxdS02onP",
        "outputId": "937c24ef-d261-4c68-dba7-d3b90061845a"
      },
      "execution_count": 15,
      "outputs": [
        {
          "output_type": "display_data",
          "data": {
            "text/plain": [
              "<Figure size 640x480 with 1 Axes>"
            ],
            "image/png": "[encoded data removed]"
          },
          "metadata": {}
        }
      ]
    },
    {
      "cell_type": "code",
      "source": [
        "model_0.state_dict()"
      ],
      "metadata": {
        "colab": {
          "base_uri": "https://localhost:8080/"
        },
        "id": "dZZ0G0oiAIlJ",
        "outputId": "bed27bcf-7117-4485-c7ed-7cb24000eed4"
      },
      "execution_count": 16,
      "outputs": [
        {
          "output_type": "execute_result",
          "data": {
            "text/plain": [
              "OrderedDict([('weight', tensor([0.6990])), ('bias', tensor([0.3093]))])"
            ]
          },
          "metadata": {},
          "execution_count": 16
        }
      ]
    },
    {
      "cell_type": "code",
      "source": [
        "with torch.inference_mode():\n",
        "  y_preds_new = model_0(x_test)\n"
      ],
      "metadata": {
        "id": "J5K2yKZwGxSw"
      },
      "execution_count": 17,
      "outputs": []
    },
    {
      "cell_type": "code",
      "source": [
        "weight, bias"
      ],
      "metadata": {
        "colab": {
          "base_uri": "https://localhost:8080/"
        },
        "id": "90rz2dWdFyHZ",
        "outputId": "061cff40-417e-40c1-e5b0-9447b1f9d00a"
      },
      "execution_count": 18,
      "outputs": [
        {
          "output_type": "execute_result",
          "data": {
            "text/plain": [
              "(0.7, 0.3)"
            ]
          },
          "metadata": {},
          "execution_count": 18
        }
      ]
    },
    {
      "cell_type": "code",
      "source": [
        "plot_predictions(predictions=y_preds_new)"
      ],
      "metadata": {
        "colab": {
          "base_uri": "https://localhost:8080/",
          "height": 368
        },
        "id": "SqlAn4nSGCmY",
        "outputId": "c46cdbfe-5465-44b3-9316-655dff18ae02"
      },
      "execution_count": 19,
      "outputs": [
        {
          "output_type": "display_data",
          "data": {
            "text/plain": [
              "<Figure size 700x400 with 1 Axes>"
            ],
            "image/png": "[encoded data removed]"
          },
          "metadata": {}
        }
      ]
    },
    {
      "cell_type": "markdown",
      "source": [
        "##Saving a model in PyTorch\n",
        "\n",
        "3 main methods to save and load models\n",
        "\n",
        "\n",
        "1.   `torch.save()` : stores PyTorch object in python's pickle format\n",
        "2.   `torch.load()` : allows your to load a saved PyTorch object\n",
        "3.   `torch.nn.Module.load_state_dict()` : allows to load an object's saved state dictionary\n",
        "\n"
      ],
      "metadata": {
        "id": "R5_IB-tlHCZD"
      }
    },
    {
      "cell_type": "code",
      "source": [
        "#Saving a PyTorch model\n",
        "from pathlib import Path\n",
        "\n",
        "# 1. Create a models directory\n",
        "MODEL_PATH = Path(\"models\")\n",
        "MODEL_PATH.mkdir(parents=True, exist_ok=True)\n",
        "\n",
        "\n",
        "# 2. Creat a model save path\n",
        "MODEL_NAME = \"01_pytorch_workflow.pth\"\n",
        "MODEL_SAVE_PATH = MODEL_PATH / MODEL_NAME\n",
        "\n",
        "# 3. Save the model state dict\n",
        "print(f\"Saving model to {MODEL_SAVE_PATH}\")\n",
        "torch.save(model_0.state_dict, MODEL_SAVE_PATH)\n"
      ],
      "metadata": {
        "colab": {
          "base_uri": "https://localhost:8080/"
        },
        "id": "j21uUvkWFfxm",
        "outputId": "3a1d839d-74d3-4204-8df9-c2ffa4ca22eb"
      },
      "execution_count": 20,
      "outputs": [
        {
          "output_type": "stream",
          "name": "stdout",
          "text": [
            "Saving model to models/01_pytorch_workflow.pth\n"
          ]
        }
      ]
    },
    {
      "cell_type": "markdown",
      "source": [
        "#Loading a PyTorch model\n",
        "We have to create a new instance of the model and load the state dict in that"
      ],
      "metadata": {
        "id": "DnJZUjTuGk4s"
      }
    },
    {
      "cell_type": "code",
      "source": [
        "#Instantiate a new instance of the model\n",
        "loaded_model_0 = LinearRegressionModel()\n",
        "\n",
        "#Load the saved state_dict of the model_0\n",
        "#loaded_model_0.load_state_dict(torch.load(f=MODEL_SAVE_PATH))"
      ],
      "metadata": {
        "id": "2dqgxridIJCa"
      },
      "execution_count": 21,
      "outputs": []
    },
    {
      "cell_type": "code",
      "source": [
        "loaded_model_0.state_dict()"
      ],
      "metadata": {
        "colab": {
          "base_uri": "https://localhost:8080/"
        },
        "id": "sreMTjEZIeVf",
        "outputId": "f12b6b5d-5fe1-4a7a-d63f-7533dc6427a4"
      },
      "execution_count": 22,
      "outputs": [
        {
          "output_type": "execute_result",
          "data": {
            "text/plain": [
              "OrderedDict([('weight', tensor([0.3367])), ('bias', tensor([0.1288]))])"
            ]
          },
          "metadata": {},
          "execution_count": 22
        }
      ]
    },
    {
      "cell_type": "markdown",
      "source": [
        "##Putting it all together\n",
        "\n",
        "Do all the steps again"
      ],
      "metadata": {
        "id": "SoOlZ-4zIt6L"
      }
    },
    {
      "cell_type": "code",
      "source": [
        "import torch\n",
        "from torch import nn\n",
        "import matplotlib.pyplot as plt\n",
        "\n",
        "torch.__version__"
      ],
      "metadata": {
        "colab": {
          "base_uri": "https://localhost:8080/",
          "height": 36
        },
        "id": "Xtx9L59L47Da",
        "outputId": "dde5bd4f-9555-4bef-d5db-16eb181822d4"
      },
      "execution_count": 23,
      "outputs": [
        {
          "output_type": "execute_result",
          "data": {
            "text/plain": [
              "'2.5.1+cu121'"
            ],
            "application/vnd.google.colaboratory.intrinsic+json": {
              "type": "string"
            }
          },
          "metadata": {},
          "execution_count": 23
        }
      ]
    },
    {
      "cell_type": "markdown",
      "source": [
        " Creating device agnostic code\n"
      ],
      "metadata": {
        "id": "23dMQhVc5ANh"
      }
    },
    {
      "cell_type": "code",
      "source": [
        "device = \"cuda\" if torch.cuda.is_available() else \"cpu\"\n",
        "print(f\"Device: {device}\")"
      ],
      "metadata": {
        "colab": {
          "base_uri": "https://localhost:8080/"
        },
        "id": "9Vs1QN_I5Nmu",
        "outputId": "05082fbb-2071-4e9b-8ae3-955bfa118006"
      },
      "execution_count": 24,
      "outputs": [
        {
          "output_type": "stream",
          "name": "stdout",
          "text": [
            "Device: cpu\n"
          ]
        }
      ]
    },
    {
      "cell_type": "markdown",
      "source": [
        "Making data"
      ],
      "metadata": {
        "id": "ZiZ6kS565gCj"
      }
    },
    {
      "cell_type": "code",
      "source": [
        "weight = 0.7\n",
        "bias = 0.3\n",
        "\n",
        "x = torch.arange(0,1,0.02).unsqueeze(dim=1)\n",
        "y = x*weight + bias\n"
      ],
      "metadata": {
        "id": "oMkvpvyv8XfI"
      },
      "execution_count": 25,
      "outputs": []
    },
    {
      "cell_type": "code",
      "source": [
        "split = int(0.8*len(x))\n",
        "\n",
        "x_train, y_train = x[:split], y[:split]\n",
        "x_test, y_test = x[split:], y[split:]"
      ],
      "metadata": {
        "id": "MCFDnq3W80pO"
      },
      "execution_count": 26,
      "outputs": []
    },
    {
      "cell_type": "code",
      "source": [
        "def plot_prediction(test_data= x_test,\n",
        "                    test_labels=y_test,\n",
        "                    train_data=x_train,\n",
        "                    train_labels = y_train,\n",
        "                    prediction=None):\n",
        "\n",
        "  plt.figure(figsize=(10,15))\n",
        "\n",
        "  plt.scatter(train_data, train_labels, c=\"g\", label=\"Training data\")\n",
        "  plt.scatter(test_data, test_labels, c=\"b\", label=\"Testing data\")\n",
        "\n",
        "  if prediction is not None:\n",
        "    plt.scatter(test_data, test_labels, c=\"hotpink\", label=\"Testing data\")\n",
        "\n",
        "plot_prediction()"
      ],
      "metadata": {
        "colab": {
          "base_uri": "https://localhost:8080/",
          "height": 1000
        },
        "id": "bdFaX0U194Wn",
        "outputId": "ec3cf15a-380d-47ac-894e-6b47b89e2897"
      },
      "execution_count": 27,
      "outputs": [
        {
          "output_type": "display_data",
          "data": {
            "text/plain": [
              "<Figure size 1000x1500 with 1 Axes>"
            ],
            "image/png": "[encoded data removed]"
          },
          "metadata": {}
        }
      ]
    },
    {
      "cell_type": "markdown",
      "source": [
        "Training function"
      ],
      "metadata": {
        "id": "9Z3bxG95ErLC"
      }
    },
    {
      "cell_type": "code",
      "source": [
        "import torch\n",
        "from torch import nn\n",
        "\n",
        "class LinearRegressionModel(nn.Module):\n",
        "  def __init__(self):\n",
        "    super().__init__()\n",
        "    ## use nn.linear to create model parameters aka linear layer, probing layerm fully connected layer, dense layer\n",
        "    self.linear_layer = nn.Linear(in_features=1, out_features=1)\n",
        "\n",
        "\n",
        "\n",
        "  def forward(self, x:torch.Tensor) -> torch.Tensor:\n",
        "    return self.linear_layer(x)\n",
        "\n",
        "torch.manual_seed(42)\n",
        "model_1 = LinearRegressionModel()\n",
        "model_1, model_1.state_dict( )"
      ],
      "metadata": {
        "colab": {
          "base_uri": "https://localhost:8080/"
        },
        "id": "5kmH13EXAS3p",
        "outputId": "00931304-9e7e-4227-dd96-705533d75601"
      },
      "execution_count": 28,
      "outputs": [
        {
          "output_type": "execute_result",
          "data": {
            "text/plain": [
              "(LinearRegressionModel(\n",
              "   (linear_layer): Linear(in_features=1, out_features=1, bias=True)\n",
              " ),\n",
              " OrderedDict([('linear_layer.weight', tensor([[0.7645]])),\n",
              "              ('linear_layer.bias', tensor([0.8300]))]))"
            ]
          },
          "metadata": {},
          "execution_count": 28
        }
      ]
    },
    {
      "cell_type": "code",
      "source": [
        "loss_fn = nn.L1Loss() #Same as MAE\n",
        "optimizer = torch.optim.SGD(params = model_1.parameters(), lr=0.01)"
      ],
      "metadata": {
        "id": "1AMqZnxNGl9i"
      },
      "execution_count": 29,
      "outputs": []
    },
    {
      "cell_type": "markdown",
      "source": [
        "Training Loop"
      ],
      "metadata": {
        "id": "UnEv4KqvDt2P"
      }
    },
    {
      "cell_type": "code",
      "source": [
        "torch.manual_seed(42)\n",
        "\n",
        "epochs = 200\n",
        "epoch_value = []\n",
        "train_loss = []\n",
        "test_loss = []\n",
        "\n",
        "for epoch in range(epochs):\n",
        "  #put in train mode\n",
        "  model_1.train()\n",
        "\n",
        "  #run forward function\n",
        "  y_pred = model_1(x_train)\n",
        "\n",
        "  #find loss function\n",
        "  loss = loss_fn(y_pred, y_train)\n",
        "\n",
        "  #zero grad-ing the optimizer\n",
        "  optimizer.zero_grad()\n",
        "\n",
        "  #backpropogation\n",
        "  loss.backward()\n",
        "\n",
        "  #optimizer step\n",
        "  optimizer.step()\n",
        "\n",
        "  ###TESTING LOOP\n",
        "  model_1.eval()\n",
        "  with torch.inference_mode():\n",
        "    test_pred = model_1(x_test)\n",
        "    test_loss_value = loss_fn(test_pred, y_test)\n",
        "\n",
        "    epoch_value.append(epoch)\n",
        "    train_loss.append(loss)\n",
        "    test_loss.append(test_loss_value)\n",
        "\n",
        "  if epoch%10==0:\n",
        "    print(f\"Epoch: {epoch} | Train Loss={loss} | Test Loss={test_loss_value}\")\n",
        "    print(model_0.state_dict())\n",
        "\n"
      ],
      "metadata": {
        "colab": {
          "base_uri": "https://localhost:8080/"
        },
        "id": "rTL4A1icE13U",
        "outputId": "1a2a2f91-75e5-49f1-c63a-fcb85af7cca3"
      },
      "execution_count": 30,
      "outputs": [
        {
          "output_type": "stream",
          "name": "stdout",
          "text": [
            "Epoch: 0 | Train Loss=0.5551779866218567 | Test Loss=0.5739762187004089\n",
            "OrderedDict([('weight', tensor([0.6990])), ('bias', tensor([0.3093]))])\n",
            "Epoch: 10 | Train Loss=0.4399680495262146 | Test Loss=0.4392663538455963\n",
            "OrderedDict([('weight', tensor([0.6990])), ('bias', tensor([0.3093]))])\n",
            "Epoch: 20 | Train Loss=0.3247582018375397 | Test Loss=0.30455657839775085\n",
            "OrderedDict([('weight', tensor([0.6990])), ('bias', tensor([0.3093]))])\n",
            "Epoch: 30 | Train Loss=0.20954827964305878 | Test Loss=0.16984674334526062\n",
            "OrderedDict([('weight', tensor([0.6990])), ('bias', tensor([0.3093]))])\n",
            "Epoch: 40 | Train Loss=0.09433844685554504 | Test Loss=0.03513689711689949\n",
            "OrderedDict([('weight', tensor([0.6990])), ('bias', tensor([0.3093]))])\n",
            "Epoch: 50 | Train Loss=0.023886386305093765 | Test Loss=0.04784906655550003\n",
            "OrderedDict([('weight', tensor([0.6990])), ('bias', tensor([0.3093]))])\n",
            "Epoch: 60 | Train Loss=0.0199567973613739 | Test Loss=0.04580312222242355\n",
            "OrderedDict([('weight', tensor([0.6990])), ('bias', tensor([0.3093]))])\n",
            "Epoch: 70 | Train Loss=0.016517987474799156 | Test Loss=0.0375305712223053\n",
            "OrderedDict([('weight', tensor([0.6990])), ('bias', tensor([0.3093]))])\n",
            "Epoch: 80 | Train Loss=0.013089170679450035 | Test Loss=0.029944902285933495\n",
            "OrderedDict([('weight', tensor([0.6990])), ('bias', tensor([0.3093]))])\n",
            "Epoch: 90 | Train Loss=0.009653178043663502 | Test Loss=0.02167237363755703\n",
            "OrderedDict([('weight', tensor([0.6990])), ('bias', tensor([0.3093]))])\n",
            "Epoch: 100 | Train Loss=0.006215679459273815 | Test Loss=0.014086711220443249\n",
            "OrderedDict([('weight', tensor([0.6990])), ('bias', tensor([0.3093]))])\n",
            "Epoch: 110 | Train Loss=0.002787243574857712 | Test Loss=0.005814164876937866\n",
            "OrderedDict([('weight', tensor([0.6990])), ('bias', tensor([0.3093]))])\n",
            "Epoch: 120 | Train Loss=0.0012645035749301314 | Test Loss=0.013801807537674904\n",
            "OrderedDict([('weight', tensor([0.6990])), ('bias', tensor([0.3093]))])\n",
            "Epoch: 130 | Train Loss=0.0012645035749301314 | Test Loss=0.013801807537674904\n",
            "OrderedDict([('weight', tensor([0.6990])), ('bias', tensor([0.3093]))])\n",
            "Epoch: 140 | Train Loss=0.0012645035749301314 | Test Loss=0.013801807537674904\n",
            "OrderedDict([('weight', tensor([0.6990])), ('bias', tensor([0.3093]))])\n",
            "Epoch: 150 | Train Loss=0.0012645035749301314 | Test Loss=0.013801807537674904\n",
            "OrderedDict([('weight', tensor([0.6990])), ('bias', tensor([0.3093]))])\n",
            "Epoch: 160 | Train Loss=0.0012645035749301314 | Test Loss=0.013801807537674904\n",
            "OrderedDict([('weight', tensor([0.6990])), ('bias', tensor([0.3093]))])\n",
            "Epoch: 170 | Train Loss=0.0012645035749301314 | Test Loss=0.013801807537674904\n",
            "OrderedDict([('weight', tensor([0.6990])), ('bias', tensor([0.3093]))])\n",
            "Epoch: 180 | Train Loss=0.0012645035749301314 | Test Loss=0.013801807537674904\n",
            "OrderedDict([('weight', tensor([0.6990])), ('bias', tensor([0.3093]))])\n",
            "Epoch: 190 | Train Loss=0.0012645035749301314 | Test Loss=0.013801807537674904\n",
            "OrderedDict([('weight', tensor([0.6990])), ('bias', tensor([0.3093]))])\n"
          ]
        }
      ]
    },
    {
      "cell_type": "code",
      "source": [
        "model_1.state_dict()"
      ],
      "metadata": {
        "colab": {
          "base_uri": "https://localhost:8080/"
        },
        "id": "uAW7VdI4I38x",
        "outputId": "28e3ba5f-a38e-42f9-8bab-3f8c26c809ee"
      },
      "execution_count": 31,
      "outputs": [
        {
          "output_type": "execute_result",
          "data": {
            "text/plain": [
              "OrderedDict([('linear_layer.weight', tensor([[0.6968]])),\n",
              "             ('linear_layer.bias', tensor([0.3025]))])"
            ]
          },
          "metadata": {},
          "execution_count": 31
        }
      ]
    },
    {
      "cell_type": "code",
      "source": [
        "with torch.inference_mode():\n",
        "  y_preds = model_1(x_test)\n",
        "\n",
        "y_preds"
      ],
      "metadata": {
        "colab": {
          "base_uri": "https://localhost:8080/"
        },
        "id": "FZmzjiG5olIv",
        "outputId": "a705af20-39d1-4994-9e98-92d055a1f46d"
      },
      "execution_count": 32,
      "outputs": [
        {
          "output_type": "execute_result",
          "data": {
            "text/plain": [
              "tensor([[0.8600],\n",
              "        [0.8739],\n",
              "        [0.8878],\n",
              "        [0.9018],\n",
              "        [0.9157],\n",
              "        [0.9296],\n",
              "        [0.9436],\n",
              "        [0.9575],\n",
              "        [0.9714],\n",
              "        [0.9854]])"
            ]
          },
          "metadata": {},
          "execution_count": 32
        }
      ]
    },
    {
      "cell_type": "code",
      "source": [
        " #See the outputs visually\n",
        "\n",
        " plot_prediction(prediction=y_preds)"
      ],
      "metadata": {
        "colab": {
          "base_uri": "https://localhost:8080/",
          "height": 1000
        },
        "id": "Yb5m3F8IpkPJ",
        "outputId": "bd9d8323-45f3-41c5-924f-4fc6bdf926e3"
      },
      "execution_count": 33,
      "outputs": [
        {
          "output_type": "display_data",
          "data": {
            "text/plain": [
              "<Figure size 1000x1500 with 1 Axes>"
            ],
            "image/png": "[encoded data removed]"
          },
          "metadata": {}
        }
      ]
    },
    {
      "cell_type": "markdown",
      "source": [
        "Saving and load the model"
      ],
      "metadata": {
        "id": "BQtxnV9lpv9b"
      }
    },
    {
      "cell_type": "code",
      "source": [
        "from pathlib import Path\n",
        "\n",
        "#Create a models directory\n",
        "MODEL_PATH = Path(\"models\")\n",
        "MODEL_PATH.mkdir(parents=True, exist_ok=True)\n",
        "\n",
        "#Create a model save path\n",
        "MODEL_NAME = \"01_pytorch_workflow.pth\"\n",
        "MODEL_SAVE_PATH = MODEL_PATH / MODEL_NAME\n",
        "\n",
        "#Save the model state dict\n",
        "print(f\"Saving model to {MODEL_SAVE_PATH}\")\n",
        "torch.save(obj=model_1.state_dict(), f = MODEL_SAVE_PATH)"
      ],
      "metadata": {
        "colab": {
          "base_uri": "https://localhost:8080/"
        },
        "id": "hF4Pmtz2qOMU",
        "outputId": "2b8688aa-bf68-4bcb-b07c-baff8bd7dfbd"
      },
      "execution_count": 34,
      "outputs": [
        {
          "output_type": "stream",
          "name": "stdout",
          "text": [
            "Saving model to models/01_pytorch_workflow.pth\n"
          ]
        }
      ]
    },
    {
      "cell_type": "code",
      "source": [
        "#Load a pytorch model\n",
        "loaded_model_1 = LinearRegressionModel()\n",
        "loaded_model_1.load_state_dict(torch.load(f=MODEL_SAVE_PATH))\n",
        "\n",
        "loaded_model_1"
      ],
      "metadata": {
        "colab": {
          "base_uri": "https://localhost:8080/"
        },
        "id": "NxzUvusNqlQf",
        "outputId": "d10b6d29-a7a5-4b53-9feb-9e8a94ec18d3"
      },
      "execution_count": 35,
      "outputs": [
        {
          "output_type": "stream",
          "name": "stderr",
          "text": [
            "<ipython-input-35-36281ca0508f>:3: FutureWarning: You are using `torch.load` with `weights_only=False` (the current default value), which uses the default pickle module implicitly. It is possible to construct malicious pickle data which will execute arbitrary code during unpickling (See https://github.com/pytorch/pytorch/blob/main/SECURITY.md#untrusted-models for more details). In a future release, the default value for `weights_only` will be flipped to `True`. This limits the functions that could be executed during unpickling. Arbitrary objects will no longer be allowed to be loaded via this mode unless they are explicitly allowlisted by the user via `torch.serialization.add_safe_globals`. We recommend you start setting `weights_only=True` for any use case where you don't have full control of the loaded file. Please open an issue on GitHub for any issues related to this experimental feature.\n",
            "  loaded_model_1.load_state_dict(torch.load(f=MODEL_SAVE_PATH))\n"
          ]
        },
        {
          "output_type": "execute_result",
          "data": {
            "text/plain": [
              "LinearRegressionModel(\n",
              "  (linear_layer): Linear(in_features=1, out_features=1, bias=True)\n",
              ")"
            ]
          },
          "metadata": {},
          "execution_count": 35
        }
      ]
    }
  ]
}